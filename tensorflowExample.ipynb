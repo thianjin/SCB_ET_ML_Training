{
  "nbformat": 4,
  "nbformat_minor": 0,
  "metadata": {
    "colab": {
      "name": "Welcome To Colaboratory",
      "provenance": [],
      "collapsed_sections": [],
      "toc_visible": true,
      "include_colab_link": true
    },
    "kernelspec": {
      "display_name": "Python 3",
      "name": "python3"
    }
  },
  "cells": [
    {
      "cell_type": "markdown",
      "metadata": {
        "id": "view-in-github",
        "colab_type": "text"
      },
      "source": [
        "<a href=\"https://colab.research.google.com/github/thianjin/SCB_ET_ML_Training/blob/main/tensorflowExample.ipynb\" target=\"_parent\"><img src=\"https://colab.research.google.com/assets/colab-badge.svg\" alt=\"Open In Colab\"/></a>"
      ]
    },
    {
      "cell_type": "code",
      "metadata": {
        "colab": {
          "base_uri": "https://localhost:8080/"
        },
        "id": "R4n862jqRx8A",
        "outputId": "7b0f4aa9-e668-4a27-869e-eda7ff9e09d4"
      },
      "source": [
        "from tensorflow.keras.datasets import fashion_mnist\n",
        "(xtr,ytr),(xts,yts) = fashion_mnist.load_data()\n",
        "print(xtr.shape)\n",
        "print(xts.shape)\n",
        "print(ytr.shape)\n",
        "print(yts.shape)"
      ],
      "execution_count": null,
      "outputs": [
        {
          "output_type": "stream",
          "text": [
            "Downloading data from https://storage.googleapis.com/tensorflow/tf-keras-datasets/train-labels-idx1-ubyte.gz\n",
            "32768/29515 [=================================] - 0s 0us/step\n",
            "Downloading data from https://storage.googleapis.com/tensorflow/tf-keras-datasets/train-images-idx3-ubyte.gz\n",
            "26427392/26421880 [==============================] - 0s 0us/step\n",
            "Downloading data from https://storage.googleapis.com/tensorflow/tf-keras-datasets/t10k-labels-idx1-ubyte.gz\n",
            "8192/5148 [===============================================] - 0s 0us/step\n",
            "Downloading data from https://storage.googleapis.com/tensorflow/tf-keras-datasets/t10k-images-idx3-ubyte.gz\n",
            "4423680/4422102 [==============================] - 0s 0us/step\n",
            "(60000, 28, 28)\n",
            "(10000, 28, 28)\n",
            "(60000,)\n",
            "(10000,)\n"
          ],
          "name": "stdout"
        }
      ]
    },
    {
      "cell_type": "code",
      "metadata": {
        "colab": {
          "base_uri": "https://localhost:8080/"
        },
        "id": "f3y4m_t6R-04",
        "outputId": "a0e11297-e662-4ce5-ab32-acb829689aee"
      },
      "source": [
        "names = [\"T-shirt/top\",\"Trouser\",\"Pullover\",\"Dress\",\"Coat\",\"Sandal\",\"Shirt\",\"Sneaker\",\"Bag\",\"Ankle boot\"]\n",
        "len(names)"
      ],
      "execution_count": null,
      "outputs": [
        {
          "output_type": "execute_result",
          "data": {
            "text/plain": [
              "10"
            ]
          },
          "metadata": {
            "tags": []
          },
          "execution_count": 2
        }
      ]
    },
    {
      "cell_type": "code",
      "metadata": {
        "id": "ro1i34R4SB1H"
      },
      "source": [
        "import matplotlib.pyplot as plt\n",
        "import numpy as np\n",
        "from tensorflow.keras.datasets import fashion_mnist\n",
        "(xtr,ytr),(xts,yts) = fashion_mnist.load_data()"
      ],
      "execution_count": null,
      "outputs": []
    },
    {
      "cell_type": "code",
      "metadata": {
        "colab": {
          "base_uri": "https://localhost:8080/"
        },
        "id": "W3cViFTTSFJ7",
        "outputId": "a3eab15d-9cf3-40ae-8664-4f903d09c1b5"
      },
      "source": [
        "names = [\"T-shirt/top\",\"Trouser\",\"Pullover\",\"Dress\",\"Coat\",\"Sandal\",\"Shirt\",\"Sneaker\",\"Bag\",\"Ankle boot\"]\n",
        "len(names)\n",
        "print(xtr.shape)\n",
        "print(xts.shape)\n",
        "print(ytr.shape)\n",
        "print(yts.shape)"
      ],
      "execution_count": null,
      "outputs": [
        {
          "output_type": "stream",
          "text": [
            "(60000, 28, 28)\n",
            "(10000, 28, 28)\n",
            "(60000,)\n",
            "(10000,)\n"
          ],
          "name": "stdout"
        }
      ]
    },
    {
      "cell_type": "code",
      "metadata": {
        "colab": {
          "base_uri": "https://localhost:8080/",
          "height": 265
        },
        "id": "WvKLR9ShSJH-",
        "outputId": "85cf183e-5e97-40a6-bcc1-de5ecef3b31c"
      },
      "source": [
        "plt.imshow(xtr[55180],cmap='gray')\n",
        "plt.show()"
      ],
      "execution_count": null,
      "outputs": [
        {
          "output_type": "display_data",
          "data": {
            "image/png": "[encoded data removed]",
            "text/plain": [
              "<Figure size 432x288 with 1 Axes>"
            ]
          },
          "metadata": {
            "tags": [],
            "needs_background": "light"
          }
        }
      ]
    },
    {
      "cell_type": "code",
      "metadata": {
        "colab": {
          "base_uri": "https://localhost:8080/"
        },
        "id": "Sw57aNzTSL0K",
        "outputId": "872f8ae7-ec9e-4194-f9c8-c7a76d21cabc"
      },
      "source": [
        "ytr[55180]"
      ],
      "execution_count": null,
      "outputs": [
        {
          "output_type": "execute_result",
          "data": {
            "text/plain": [
              "7"
            ]
          },
          "metadata": {
            "tags": []
          },
          "execution_count": 7
        }
      ]
    },
    {
      "cell_type": "code",
      "metadata": {
        "colab": {
          "base_uri": "https://localhost:8080/",
          "height": 35
        },
        "id": "ybcyb65FSNzv",
        "outputId": "3b466874-0e60-49a9-ec27-cc06375d14e3"
      },
      "source": [
        "names[ytr[55180]]"
      ],
      "execution_count": null,
      "outputs": [
        {
          "output_type": "execute_result",
          "data": {
            "application/vnd.google.colaboratory.intrinsic+json": {
              "type": "string"
            },
            "text/plain": [
              "'Sneaker'"
            ]
          },
          "metadata": {
            "tags": []
          },
          "execution_count": 8
        }
      ]
    },
    {
      "cell_type": "code",
      "metadata": {
        "colab": {
          "base_uri": "https://localhost:8080/"
        },
        "id": "nOgyH0rlXHEX",
        "outputId": "63795781-11c2-49a4-dbb1-9578046dd50b"
      },
      "source": [
        "## Preprocessing of data\n",
        "\n",
        "ytr\n",
        "\n",
        "# for multiclass classification, we need to onehotencode the labels\n",
        "from tensorflow.keras.utils import to_categorical\n",
        "ytr = to_categorical(ytr)\n",
        "print(ytr.shape)\n",
        "yts = to_categorical(yts)\n",
        "print(yts.shape)\n",
        "\n",
        "# converting images into channel format\n",
        "print(xtr.shape)\n",
        "print(xts.shape)"
      ],
      "execution_count": 10,
      "outputs": [
        {
          "output_type": "stream",
          "text": [
            "(60000, 10)\n",
            "(10000, 10)\n",
            "(60000, 28, 28)\n",
            "(10000, 28, 28)\n"
          ],
          "name": "stdout"
        }
      ]
    },
    {
      "cell_type": "code",
      "metadata": {
        "colab": {
          "base_uri": "https://localhost:8080/"
        },
        "id": "ViVFy9VgXurJ",
        "outputId": "bd8f17d4-bfc1-4ad3-8913-fbce1fa27ef4"
      },
      "source": [
        "## modelling of Neural Network\n",
        "\n",
        "from tensorflow.keras import models,layers\n",
        "\n",
        "# creating input layer\n",
        "input_layer = layers.Input(shape=(28,28))\n",
        "\n",
        "# add a fltten layer, flatten layer flattens the array, e.g. a 5x5 array will be converted to 1x25\n",
        "# here we are using flatten layer to convert image of shape 28x28 to 1x784 so that each pixel can be fed to next layer\n",
        "ft = layers.Flatten()(input_layer)\n",
        "\n",
        "# add the first hidden layer -> full connnected layer where each neuron does weighted sum and activation function. such layers in tensorflow are termed as dense layers\n",
        "h1 = layers.Dense(200,activation='relu')(ft)\n",
        "\n",
        "# add the second hidden layer\n",
        "h2 = layers.Dense(100,activation='relu')(h1)\n",
        "\n",
        "# add the final output layer\n",
        "output_layer = layers.Dense(10,activation='softmax')(h2)\n",
        "\n",
        "\n",
        "model = models.Model(inputs=input_layer,outputs=output_layer)\n",
        "model.summary()"
      ],
      "execution_count": 11,
      "outputs": [
        {
          "output_type": "stream",
          "text": [
            "Model: \"model\"\n",
            "_________________________________________________________________\n",
            "Layer (type)                 Output Shape              Param #   \n",
            "=================================================================\n",
            "input_1 (InputLayer)         [(None, 28, 28)]          0         \n",
            "_________________________________________________________________\n",
            "flatten (Flatten)            (None, 784)               0         \n",
            "_________________________________________________________________\n",
            "dense (Dense)                (None, 200)               157000    \n",
            "_________________________________________________________________\n",
            "dense_1 (Dense)              (None, 100)               20100     \n",
            "_________________________________________________________________\n",
            "dense_2 (Dense)              (None, 10)                1010      \n",
            "=================================================================\n",
            "Total params: 178,110\n",
            "Trainable params: 178,110\n",
            "Non-trainable params: 0\n",
            "_________________________________________________________________\n"
          ],
          "name": "stdout"
        }
      ]
    },
    {
      "cell_type": "code",
      "metadata": {
        "id": "StCNmMPabAvF",
        "outputId": "12120b69-5182-4b76-d92b-1d82ede293ca",
        "colab": {
          "base_uri": "https://localhost:8080/"
        }
      },
      "source": [
        "# metrics - to check performance of the model e.g. - accuracy, recall, r2 score\n",
        "# optmizier - the optmizier which will update the weights and bais to minimize the error function, e.g. adam, sgd, RMSProp => we prefer using adam as it tunes learning rate automaticalllu\n",
        "# loss = how the overall error to be calculated, for regression - mse , for two class classification - binary_crossentropy, for multiclass classification - categorical_crossentropy\n",
        "model.compile(metrics=['accuracy'],optimizer='adam',loss='categorical_crossentropy')\n",
        "model.fit(xtr,ytr,epochs=10,batch_size=1000,validation_data=(xts,yts))"
      ],
      "execution_count": 12,
      "outputs": [
        {
          "output_type": "stream",
          "text": [
            "Epoch 1/10\n",
            "60/60 [==============================] - 2s 25ms/step - loss: 10.5876 - accuracy: 0.6827 - val_loss: 3.2225 - val_accuracy: 0.7584\n",
            "Epoch 2/10\n",
            "60/60 [==============================] - 1s 22ms/step - loss: 2.2557 - accuracy: 0.7765 - val_loss: 1.9780 - val_accuracy: 0.7672\n",
            "Epoch 3/10\n",
            "60/60 [==============================] - 1s 22ms/step - loss: 1.4576 - accuracy: 0.7982 - val_loss: 1.4191 - val_accuracy: 0.7962\n",
            "Epoch 4/10\n",
            "60/60 [==============================] - 1s 22ms/step - loss: 1.0721 - accuracy: 0.8149 - val_loss: 1.2743 - val_accuracy: 0.7989\n",
            "Epoch 5/10\n",
            "60/60 [==============================] - 1s 22ms/step - loss: 0.8796 - accuracy: 0.8288 - val_loss: 1.0842 - val_accuracy: 0.8122\n",
            "Epoch 6/10\n",
            "60/60 [==============================] - 1s 23ms/step - loss: 0.7605 - accuracy: 0.8360 - val_loss: 0.9596 - val_accuracy: 0.8222\n",
            "Epoch 7/10\n",
            "60/60 [==============================] - 1s 24ms/step - loss: 0.6606 - accuracy: 0.8445 - val_loss: 0.9245 - val_accuracy: 0.8176\n",
            "Epoch 8/10\n",
            "60/60 [==============================] - 1s 23ms/step - loss: 0.5807 - accuracy: 0.8525 - val_loss: 0.8430 - val_accuracy: 0.8241\n",
            "Epoch 9/10\n",
            "60/60 [==============================] - 1s 23ms/step - loss: 0.5260 - accuracy: 0.8592 - val_loss: 0.7773 - val_accuracy: 0.8282\n",
            "Epoch 10/10\n",
            "60/60 [==============================] - 1s 23ms/step - loss: 0.4731 - accuracy: 0.8660 - val_loss: 0.7358 - val_accuracy: 0.8279\n"
          ],
          "name": "stdout"
        },
        {
          "output_type": "execute_result",
          "data": {
            "text/plain": [
              "<tensorflow.python.keras.callbacks.History at 0x7f2453501450>"
            ]
          },
          "metadata": {
            "tags": []
          },
          "execution_count": 12
        }
      ]
    }
  ]
}